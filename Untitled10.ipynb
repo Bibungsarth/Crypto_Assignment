{
  "nbformat": 4,
  "nbformat_minor": 0,
  "metadata": {
    "colab": {
      "provenance": [],
      "authorship_tag": "ABX9TyPUUnpCLQ05GbWAPcPK+BXQ",
      "include_colab_link": true
    },
    "kernelspec": {
      "name": "python3",
      "display_name": "Python 3"
    },
    "language_info": {
      "name": "python"
    }
  },
  "cells": [
    {
      "cell_type": "markdown",
      "metadata": {
        "id": "view-in-github",
        "colab_type": "text"
      },
      "source": [
        "<a href=\"https://colab.research.google.com/github/Bibungsarth/Crypto_Assignment/blob/main/Untitled10.ipynb\" target=\"_parent\"><img src=\"https://colab.research.google.com/assets/colab-badge.svg\" alt=\"Open In Colab\"/></a>"
      ]
    },
    {
      "cell_type": "markdown",
      "source": [
        "# INTRODUCTION\n",
        "\n",
        "---\n",
        "\n",
        "\n",
        "**What is Cryptography, Why do we need Cryptography?**\n",
        "\n",
        "We live in a world where a cyber threat can occur anywhere anytime.When 2 people are communicating something that is secretive, imagine someone eavesdropping or listening to it. This is where cryptography come into action,its purpose is to hide/encrypt the message/data so that only the intended person can read it.\n",
        "\n",
        "**Importance of Cryptography**\n",
        "\n",
        "*  It ensures confidentiality of the data and protect it from cybercriminals it encrypts information/data by encrypting it using a key that only the sender and reciever have access to.\n",
        "*  Cryptography can confirm the authenticity and integrity of the information being sent and received. Cryptography ensures information is not altered while in storage or during transit between the sender and the intended recipient.\n",
        "* Cryptography confirms accountability and responsibility from the sender of a message, which means they cannot later deny their intentions when they created or transmitted information.\n",
        "\n",
        "# Types of Cryptographic Algorithms\n",
        "\n",
        "---\n",
        "\n",
        "\n",
        "Cryptographic algorithms are of many types and they vary in complexity,security and the type of communication and sensitivity of the data.\n",
        "\n",
        "1.  **Symmetric Key Cryptography**\n",
        "\n",
        "Symmetric Key Cryptography/secret key cryptography uses a single key to encrypt and decrypt a message.The same key is used by the sender while encrypting and by the reciever while decrypting.\n",
        "Eg: AES, DES\n",
        "\n",
        "\n",
        "\n",
        "2.  **Assymetric Key Cryptography**\n",
        "\n",
        "Asymmetric key cryptography/public key cryptography(PKC) ,uses mathematical functions to create codes that are extreamly difficult to crack.It enables people to communicate securely in an non-secure environment without the need for a secret key.\n",
        "Eg: RSA, Dillie & Hellman\n",
        "\n",
        "# INTRODUCTION\n",
        "\n",
        "---\n",
        "\n",
        "\n",
        "**What is Cryptography, Why do we need Cryptography?**\n",
        "\n",
        "We live in a world where a cyber threat can occur anywhere anytime.When 2 people are communicating something that is secretive, imagine someone eavesdropping or listening to it. This is where cryptography come into action,its purpose is to hide/encrypt the message/data so that only the intended person can read it.\n",
        "\n",
        "**Importance of Cryptography**\n",
        "\n",
        "*  It ensures confidentiality of the data and protect it from cybercriminals it encrypts information/data by encrypting it using a key that only the sender and reciever have access to.\n",
        "*  Cryptography can confirm the authenticity and integrity of the information being sent and received. Cryptography ensures information is not altered while in storage or during transit between the sender and the intended recipient.\n",
        "* Cryptography confirms accountability and responsibility from the sender of a message, which means they cannot later deny their intentions when they created or transmitted information.\n",
        "\n",
        "# Types of Cryptographic Algorithms\n",
        "\n",
        "---\n",
        "\n",
        "\n",
        "Cryptographic algorithms are of many types and they vary in complexity,security and the type of communication and sensitivity of the data.\n",
        "\n",
        "1.  **Symmetric Key Cryptography**\n",
        "\n",
        "Symmetric Key Cryptography/secret key cryptography uses a single key to encrypt and decrypt a message.The same key is used by the sender while encrypting and by the reciever while decrypting.\n",
        "Eg: AES, DES\n",
        "\n",
        "\n",
        "\n",
        "2.  **Assymetric Key Cryptography**\n",
        "\n",
        "Asymmetric key cryptography/public key cryptography(PKC) ,uses mathematical functions to create codes that are extreamly difficult to crack.It enables people to communicate securely in an non-secure environment without the need for a secret key.\n",
        "Eg: RSA, Dillie & Hellman\n",
        "\n",
        "**DES Algorithm**\n",
        "\n",
        "Block size: 64 bits , the message is divided into block of 64 bits and each of these 64 bits are processed at a time\n",
        "Key size: 56 bits\n",
        "Number of rounds:16\n",
        "\n",
        "Take a message 64 bits,\n",
        "1.Permute the bits using IP(initial permutation)\n",
        "2.Divide into left and right lo,ro of 32 bits each\n",
        "3.Exapand ro into 48 bits using a exapnasion permutation\n",
        "The key generation Algorithm will generate 16 round keys of length 48 bits each from the input key of 56 bits\n",
        "actual key size is 64 bits ,8 bits are discarded as parity bits.\n",
        "\n",
        "4.k1 xor Exp(ro)\n",
        "5.ouput of step 4 goes to 8 sboxes(each s box takes a 6 bit input and produces a4 bit ouput)\n",
        "6.Output of step 5 is permuted using a permutation table.\n",
        "7.xor lo with output of step 6\n",
        "8.output of step 7 becomes the new left half.\n",
        "This is repeated 16 times (15 more)with 16 different keys.At the end of 16th round, the left and right haves are swapped. Then the inverse of initial permutation cipher is taken.Result is 64 bit ciphertext\n",
        "** AES Algorithm:**\n",
        "\n",
        "Block Size:128 bits\n",
        "Key Size:128, 192, or 256 bits\n",
        "Number of Rounds:10, 12, or 14 depending on the key size\n",
        "\n",
        "1. SubBytes: Each byte of the input is replaced with another byte according to a substitution table.\n",
        "2. ShiftRows: Bytes in each row of the state are shifted cyclically to the left.\n",
        "3. MixColumn: Each column of the state is multiplied with a fixed polynomial modulo an irreducible polynomial.\n",
        "4. AddRoundKey: Each byte of the state is combined with a byte of the round key using bitwise XOR.\n",
        "\n",
        "These steps are repeated for a number of rounds based on the key size, and at the end, the resulting state is the ciphertext.\n",
        "\n",
        "\n",
        "**RSA Algorithm**\n",
        "\n",
        "Key Size: Typically 1024, 2048, or 4096 bits\n",
        "\n",
        "Key Generation: Two large prime numbers are chosen, and from them, the public and private keys are generated.\n",
        "Encryption: The plaintext message is raised to the power of the public key modulo the modulus to obtain the ciphertext.\n",
        "\n",
        "Decryption: The ciphertext is raised to the power of the private key modulo the modulus to obtain the original plaintext message.\n",
        "\n",
        " **Diffie-Hellman Key Exchange:**\n",
        "\n",
        "\n",
        "1. Public Parameters: Agree upon a prime number and a primitive root modulo that prime.\n",
        "2. Private Keys: Each party selects a private key.\n",
        "3. Public Keys: Each party calculates their public key by raising the primitive root to their private key modulo the prime.\n",
        "4. Shared Secret: Each party exchanges their public key and computes the shared secret by raising the received public key to their own private key modulo the prime.\n",
        "\n",
        "These processes allow two parties to establish a shared secret key over an insecure channel without prior communication.\n",
        "\n"
      ],
      "metadata": {
        "id": "1yh6tsO3aF6l"
      }
    },
    {
      "cell_type": "markdown",
      "source": [
        "Implement any two symmetric encryption algorithms using Python."
      ],
      "metadata": {
        "id": "4f3bQfiTV854"
      }
    },
    {
      "cell_type": "code",
      "source": [
        "#AES\n",
        "import os\n",
        "from Crypto.Cipher import AES\n",
        "from Crypto.Random import get_random_bytes\n",
        "from Crypto.Protocol.KDF import PBKDF2\n",
        "from Crypto.Util.Padding import pad, unpad\n",
        "from hashlib import sha256\n",
        "\n",
        "def generate_aes_key(password, salt):\n",
        "    key = PBKDF2(password, salt, dkLen=32, count=1000000)\n",
        "    return key\n",
        "\n",
        "def encrypt_aes(key, plaintext):\n",
        "    iv = get_random_bytes(AES.block_size)\n",
        "    cipher = AES.new(key, AES.MODE_CBC, iv)\n",
        "    padded_plaintext = pad(plaintext.encode('utf-8'), AES.block_size)\n",
        "    ciphertext = cipher.encrypt(padded_plaintext)\n",
        "    return iv + ciphertext\n",
        "\n",
        "def decrypt_aes(key, ciphertext):\n",
        "    iv = ciphertext[:AES.block_size]\n",
        "    cipher = AES.new(key, AES.MODE_CBC, iv)\n",
        "    decrypted_data = cipher.decrypt(ciphertext[AES.block_size:])\n",
        "    plaintext = unpad(decrypted_data, AES.block_size).decode('utf-8')\n",
        "    return plaintext\n",
        "\n",
        "def calculateHash(value):\n",
        "    hashValue = sha256(value.encode('utf-8')).hexdigest()\n",
        "    return hashValue\n",
        "\n",
        "if __name__ == \"__main__\":\n",
        "    os.system('cls')\n",
        "    print(\"AES Encryption and Decryption\")\n",
        "    print(\"-----------------------------\")\n",
        "    password = input(\"Enter the password: \")\n",
        "\n",
        "    salt = get_random_bytes(16)\n",
        "\n",
        "    key = generate_aes_key(calculateHash(password), salt)\n",
        "\n",
        "    plaintext = \"Hello, AES!\"\n",
        "    ciphertext = encrypt_aes(key, plaintext)\n",
        "    print(\"Encrypted:\", ciphertext)\n",
        "\n",
        "    decrypted_text = decrypt_aes(key, ciphertext)\n",
        "    print(\"Decrypted:\", decrypted_text)\n"
      ],
      "metadata": {
        "colab": {
          "base_uri": "https://localhost:8080/"
        },
        "id": "Hjv_Zu7ITmIf",
        "outputId": "82b53f4b-d62f-403d-dfa4-58d55fbd8886"
      },
      "execution_count": 22,
      "outputs": [
        {
          "output_type": "stream",
          "name": "stdout",
          "text": [
            "AES Encryption and Decryption\n",
            "-----------------------------\n",
            "Enter the password: 789878\n",
            "Encrypted: b'\\x8a\\xb7\\x99\\xf32\\xb4z\\xc1\\xd9\\xe5\\xccO\\xae=\\x7f\\xee\\x13\\xce\\x02f\\xcc\\xe2 \\n\\xe3~\\xbe\\xaa{:\\xcc\\xd8'\n",
            "Decrypted: Hello, AES!\n"
          ]
        }
      ]
    },
    {
      "cell_type": "code",
      "source": [
        "#DES\n",
        "import os\n",
        "from hashlib import sha256\n",
        "from Crypto.Cipher import DES\n",
        "from Crypto.Random import get_random_bytes\n",
        "\n",
        "def generate_des_key():\n",
        "    return get_random_bytes(8)\n",
        "\n",
        "def encrypt_des(key, plaintext):\n",
        "    cipher = DES.new(key, DES.MODE_ECB)\n",
        "    plaintext_bytes = plaintext.encode('utf-8')\n",
        "    padded_plaintext = plaintext_bytes + b\"\\0\" * (8 - len(plaintext_bytes) % 8)\n",
        "    ciphertext = cipher.encrypt(padded_plaintext)\n",
        "    return ciphertext\n",
        "\n",
        "def decrypt_des(key, ciphertext):\n",
        "    cipher = DES.new(key, DES.MODE_ECB)\n",
        "    decrypted_text = cipher.decrypt(ciphertext)\n",
        "    return decrypted_text.rstrip(b\"\\0\")\n",
        "\n",
        "def calculateHash(value):\n",
        "    hashValue = sha256(value.encode('utf-8')).hexdigest()\n",
        "    return hashValue\n",
        "\n",
        "if __name__ == \"__main__\":\n",
        "    os.system('cls')\n",
        "\n",
        "    plaintext = input(\"Enter the Plaintext: \")\n",
        "    hash_value = calculateHash(plaintext)\n",
        "    print(f\"The hash value of the plaintext is: {hash_value}\")\n",
        "\n",
        "    key = generate_des_key()\n",
        "    ciphertext = encrypt_des(key, plaintext)\n",
        "    print(\"Encrypted:\", ciphertext)\n",
        "\n",
        "    decrypted_text = decrypt_des(key, ciphertext)\n",
        "    print(\"Decrypted:\", decrypted_text.decode('utf-8'))\n"
      ],
      "metadata": {
        "colab": {
          "base_uri": "https://localhost:8080/"
        },
        "id": "k1GWcwbSU0rQ",
        "outputId": "c0cc2f54-23de-4a90-f7c1-2b3cb32fe12a"
      },
      "execution_count": 20,
      "outputs": [
        {
          "output_type": "stream",
          "name": "stdout",
          "text": [
            "Enter the Plaintext: RickAndMorty\n",
            "The hash value of the plaintext is: 6f94583bfabe03b319b80e9885d8755bc7859158d86948a7cc06cedda65b711c\n",
            "Encrypted: b'f\\xc6\\x1d$\\xacH\\x91af\\xb3\\xac\\x1e\\xcd\\x96\\xe9Q'\n",
            "Decrypted: RickAndMorty\n"
          ]
        }
      ]
    },
    {
      "cell_type": "markdown",
      "source": [
        "Implement any two Asymmetric encryption algorithms using Python."
      ],
      "metadata": {
        "id": "9e0sof7XWbY4"
      }
    },
    {
      "cell_type": "code",
      "source": [
        "#RSA\n",
        "import os\n",
        "import random\n",
        "import hashlib\n",
        "\n",
        "def generate_prime(bits):\n",
        "    while True:\n",
        "        num = random.getrandbits(bits)\n",
        "        if is_prime(num):\n",
        "            return num\n",
        "\n",
        "def is_prime(n, k=5):\n",
        "    if n <= 1:\n",
        "        return False\n",
        "    if n <= 3:\n",
        "        return True\n",
        "    for _ in range(k):\n",
        "        a = random.randint(2, n - 1)\n",
        "        if pow(a, n - 1, n) != 1:\n",
        "            return False\n",
        "    return True\n",
        "\n",
        "def gcd(a, b):\n",
        "    while b != 0:\n",
        "        a, b = b, a % b\n",
        "    return a\n",
        "\n",
        "def mod_inverse(a, m):\n",
        "    m0, x0, x1 = m, 0, 1\n",
        "    while a > 1:\n",
        "        q = a // m\n",
        "        m, a = a % m, m\n",
        "        x0, x1 = x1 - q * x0, x0\n",
        "    return x1 + m0 if x1 < 0 else x1\n",
        "\n",
        "def generate_keypair(bits):\n",
        "    p = generate_prime(bits)\n",
        "    q = generate_prime(bits)\n",
        "    n = p * q\n",
        "    phi = (p - 1) * (q - 1)\n",
        "    while True:\n",
        "        e = random.randint(2, phi - 1)\n",
        "        if gcd(e, phi) == 1:\n",
        "            break\n",
        "    d = mod_inverse(e, phi)\n",
        "    return (n, e), (n, d)\n",
        "\n",
        "def encrypt(public_key, plaintext):\n",
        "    n, e = public_key\n",
        "    return pow(plaintext, e, n)\n",
        "\n",
        "def decrypt(private_key, ciphertext):\n",
        "    n, d = private_key\n",
        "    return pow(ciphertext, d, n)\n",
        "\n",
        "def calculate_hash(value):\n",
        "    return int.from_bytes(hashlib.sha256(value.encode('utf-8')).digest(), byteorder='big')\n",
        "\n",
        "if __name__ == \"__main__\":\n",
        "    os.system('cls' if os.name == 'nt' else 'clear')\n",
        "    print(\"RSA Encryption and Decryption\")\n",
        "    print(\"----------------------------\")\n",
        "\n",
        "    bits = 1024\n",
        "    public_key, private_key = generate_keypair(bits)\n",
        "\n",
        "    message = input(\"Enter the message: \")\n",
        "    hashed_message = calculate_hash(message)\n",
        "\n",
        "    ciphertext = encrypt(public_key, hashed_message)\n",
        "    print(\"Encrypted:\", ciphertext)\n",
        "\n",
        "    decrypted_hash = decrypt(private_key, ciphertext)\n",
        "    print(\"Decrypted hash:\", decrypted_hash)\n",
        "\n",
        "    original_hash = calculate_hash(message)\n",
        "    print(\"Original hash:\", original_hash)\n",
        "\n",
        "    if decrypted_hash == original_hash:\n",
        "        print(\"Hashes match\")\n",
        "    else:\n",
        "        print(\"Hashes do not match\")\n"
      ],
      "metadata": {
        "colab": {
          "base_uri": "https://localhost:8080/"
        },
        "id": "vZTIBO_bVnpX",
        "outputId": "6d04446a-c04b-4547-ae84-29c701a23096"
      },
      "execution_count": 25,
      "outputs": [
        {
          "output_type": "stream",
          "name": "stdout",
          "text": [
            "RSA Encryption and Decryption\n",
            "----------------------------\n",
            "Enter the message: Hi, World\n",
            "Encrypted: 4997970781090361063945930243284364094008882132129217050898355606782127934939493347160664077434335769024137111865170554927824579500554229362629085640038518629876611044271413145768636705445669780275746623531923267279021322120268108749327376198974160605805045487018278676219878454933284865236211712450149383741736008812058055788972353888741910161091089066262751926021767284638625612025471581614990441389697072201710313042487041394576224329271601500330709605163792826285899520572573539217176039727114523337847545017399786518498772863487781172788758712493113936070064257531189371864963282391433467124148640433181926659784\n",
            "Decrypted hash: 62407430573976251725499156949826815991053636620846308818583972426838909294796\n",
            "Original hash: 62407430573976251725499156949826815991053636620846308818583972426838909294796\n",
            "Hashes match\n"
          ]
        }
      ]
    },
    {
      "cell_type": "markdown",
      "source": [
        "Implement a hash function to compute the hash of a given string.\n"
      ],
      "metadata": {
        "id": "DMmRM9TZZwo9"
      }
    },
    {
      "cell_type": "code",
      "source": [
        "import os\n",
        "from hashlib import sha256\n",
        "\n",
        "def calculateHash(value):\n",
        "    hashValue = sha256(value.encode('utf-8')).hexdigest()\n",
        "\n",
        "    return hashValue\n",
        "\n",
        "if __name__ == \"__main__\":\n",
        "    os.system('cls')\n",
        "    print(\"SHA256 Hash Calculator\")\n",
        "    print(\"----------------------\")\n",
        "    text = input(\"Enter the string to find the hash value for:- \")\n",
        "    print(f\"The sha256 hash value of the given string is {calculateHash(text)}.\")"
      ],
      "metadata": {
        "colab": {
          "base_uri": "https://localhost:8080/"
        },
        "id": "1WQTqJhvXpCM",
        "outputId": "eef8afef-ea7c-4775-fa81-d225d98d264a"
      },
      "execution_count": 30,
      "outputs": [
        {
          "output_type": "stream",
          "name": "stdout",
          "text": [
            "SHA256 Hash Calculator\n",
            "----------------------\n",
            "Enter the string to find the hash value for:- Hi, World\n",
            "The sha256 hash value of the given string is 89f95a9d55fe29714dc20cf6aef8df47352044589e284035247cb199c33a98cc.\n"
          ]
        }
      ]
    }
  ]
}